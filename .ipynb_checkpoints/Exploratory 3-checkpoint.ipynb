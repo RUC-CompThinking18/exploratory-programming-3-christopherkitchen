{
 "cells": [
  {
   "cell_type": "code",
   "execution_count": 2,
   "metadata": {},
   "outputs": [
    {
     "name": "stdout",
     "output_type": "stream",
     "text": [
      "['that', 'that', 'that', 'that', 'that', 'that', 'that', 'that', 'what', 'that', 'that', 'that', 'that', 'what', 'throat', 'that', 'that', 'that', 'that', 'that', 'that', 'that', 'that', 'boat', 'that', 'boat', 'That', 'that', 'that', 'that', 'that', 'that', 'that', 'that', 'that', 'that', 'What', 'what', 'that', 'that', 'that', 'that', 'that', 'that', 'that', 'that', 'that', 'that', 'that', 'what', 'what', 'great', 'what', 'that', 'that', 'that', 'what', 'That', 'that', 'that', 'that', 'that', 'that', 'that', 'that', 'that', 'that', 'what', 'that', 'that', 'what', 'that', 'that', 'that', 'that', 'That', 'What', 'that', 'that', 'that', 'That', 'that', 'What', 'that', 'What', 'great', 'that', 'That', 'that', 'what', 'that', 'that', 'That', 'what', 'that', 'what', 'that', 'that', 'that', 'that', 'what', 'that', 'that', 'that', 'that', 'that', 'that', 'that', 'that', 'that', 'that', 'What', 'What', 'that', 'that', 'that', 'What', 'that', 'that', 'that', 'what', 'that', 'that', 'what', 'What', 'that', 'that', 'that', 'that', 'what', 'what', 'that', 'that', 'that', 'that', 'what', 'that', 'what', 'that', 'that', 'that', 'that', 'that', 'that', 'that', 'What', 'great', 'that', 'What', 'that', 'that', 'What', 'that', 'What', 'That', 'that', 'that', 'that', 'that', 'that', 'that', 'that', 'that', 'that', 'what', 'that', 'that', 'great', 'that', 'that', 'that', 'that', 'that', 'that', 'that', 'That', 'that', 'great', 'that', 'that', 'that', 'that', 'that', 'that', 'that', 'that', 'that', 'that', 'that', 'that', 'What', 'That', 'that', 'that', 'that', 'what', 'what', 'that', 'flat', 'that', 'that', 'that', 'what', 'that', 'what', 'that', 'that', 'boat', 'boat', 'That', 'that', 'that', 'that', 'that', 'that', 'that', 'that', 'What', 'That', 'that', 'That', 'What', 'what', 'that', 'that', 'That', 'that', 'that', 'float', 'that', 'that', 'What', 'What', 'that', 'that', 'that', 'that', 'that', 'that', 'that', 'what', 'great', 'That', 'that', 'that', 'that', 'that', 'that', 'somewhat', 'that', 'Great', 'that', 'somewhat', 'somewhat', 'that', 'great', 'that', 'that', 'that', 'that', 'that', 'that', 'what', 'that', 'that', 'what', 'that', 'that', 'that', 'that', 'that', 'that', 'that', 'that', 'seat', 'that', 'that', 'That', 'that', 'what', 'what', 'that', 'that', 'What', 'what', 'that', 'great', 'What', 'what', 'that', 'that', 'that', 'that', 'Great', 'what', 'that', 'that', 'that', 'what', 'that', 'what', 'That', 'what', 'what', 'that', 'that', 'That', 'that', 'that', 'that', 'What', 'that', 'that', 'what', 'What', 'what', 'That', 'What', 'that', 'what', 'that', 'great', 'that', 'that', 'that', 'great', 'what', 'that', 'what', 'what', 'that', 'what', 'that', 'that', 'that', 'that', 'that', 'that', 'What', 'that', 'that', 'What', 'what', 'that', 'What', 'that', 'what', 'great', 'that', 'that', 'great', 'that', 'that', 'that', 'what', 'what', 'what', 'that', 'that', 'that', 'that', 'that', 'that', 'that', 'that', 'That', 'great', 'that', 'that', 'that', 'that', 'that', 'treat', 'that', 'that', 'great', 'that', 'that', 'that', 'that', 'that', 'What', 'that', 'that', 'that', 'boat', 'what', 'that', 'that', 'that', 'that', 'that', 'what', 'that', 'what', 'that', 'Boat', 'Boat', 'boat', 'boat', 'that', 'what', 'What', 'that', 'that', 'What', 'that', 'that', 'What', 'that', 'that', 'great', 'boat', 'What', 'that', 'That', 'what', 'that', 'that', 'that', 'that', 'that', 'that', 'great', 'that', 'boat', 'boat', 'that', 'that', 'that', 'that', 'combat', 'that', 'that', 'that', 'that', 'what', 'that', 'that', 'that', 'that', 'What', 'that', 'that', 'that', 'what', 'what', 'that', 'that', 'what', 'What', 'What', 'that', 'that', 'what', 'that', 'that', 'what', 'great', 'that', 'that', 'that', 'Great', 'that', 'that', 'that', 'that', 'Great', 'that', 'great', 'that', 'that', 'that', 'that', 'what', 'that', 'that', 'that', 'what', 'that', 'that', 'what', 'that', 'that', 'that', 'that', 'that', 'that', 'What', 'what', 'that', 'what', 'what', 'that', 'what', 'that', 'that', 'that', 'that', 'that', 'that', 'what', 'that', 'that', 'what', 'What', 'that', 'great', 'that', 'that', 'that', 'That', 'what', 'that', 'great', 'that', 'What', 'that', 'what', 'what', 'that', 'that', 'that', 'what', 'that', 'that', 'what', 'that', 'that', 'that', 'that', 'that', 'that', 'that', 'that', 'that', 'that', 'that', 'that', 'that', 'that', 'That', 'that', 'that', 'that', 'That', 'that', 'that', 'that', 'that', 'that', 'that', 'that', 'that', 'combat', 'What', 'that', 'that', 'what', 'what', 'What', 'that', 'that', 'that', 'What', 'that', 'that', 'that', 'that', 'what', 'that', 'what', 'that', 'beat', 'that', 'beat', 'beat', 'that', 'that', 'that', 'that', 'that', 'that', 'that', 'that', 'what', 'that', 'that', 'that', 'that', 'that', 'that', 'that', 'that', 'that', 'great', 'that', 'that', 'that', 'What', 'that', 'that', 'what', 'that', 'what', 'that', 'that', 'what', 'that', 'that', 'that', 'What', 'that', 'What', 'that', 'that', 'that', 'what', 'that', 'What', 'what', 'that', 'that', 'that', 'that', 'that', 'what', 'that', 'that', 'that', 'that', 'that', 'that', 'that', 'that', 'that', 'what', 'that', 'that', 'that', 'that', 'that', 'that', 'that', 'what', 'that', 'that', 'What', 'what', 'that', 'that', 'that', 'somewhat', 'that', 'that', 'What', 'What', 'What', 'That', 'that', 'that', 'that', 'that', 'that', 'what', 'What', 'What', 'What', 'What', 'what', 'that', 'that', 'that', 'that', 'that', 'what', 'that', 'that', 'that', 'what', 'that', 'that', 'that', 'that', 'that', 'that', 'that', 'that', 'that', 'that', 'what', 'that', 'what', 'that', 'that', 'that', 'that', 'that', 'that', 'what', 'that', 'that', 'that', 'that', 'that', 'What', 'What', 'that', 'What', 'that', 'that', 'that', 'What', 'that', 'that', 'that', 'that', 'great', 'that', 'that', 'that', 'that', 'that', 'that', 'that', 'that', 'that', 'that', 'that', 'what', 'that', 'that', 'what', 'that', 'That', 'What', 'that', 'waistcoat', 'that', 'that', 'that', 'that', 'that', 'that', 'that', 'that', 'that', 'that', 'that', 'that', 'that', 'that', 'what', 'that', 'that', 'that', 'that', 'that', 'that', 'that', 'that', 'that', 'what', 'that', 'that', 'that', 'what', 'what', 'what', 'that', 'What', 'That', 'that', 'that', 'that', 'that', 'what', 'that', 'great', 'that', 'that', 'that', 'that', 'that', 'that', 'that', 'that', 'That', 'what', 'that', 'that', 'that', 'that', 'somewhat', 'that', 'that', 'that', 'that', 'That', 'That', 'That', 'that', 'what', 'that', 'that', 'that', 'what', 'that', 'that', 'that', 'That', 'what', 'that', 'that', 'that', 'what', 'that', 'that', 'that', 'that', 'what', 'that', 'that', 'that', 'what', 'that', 'that', 'that', 'that', 'that', 'that', 'That', 'that', 'that', 'That', 'that', 'that', 'That', 'What', 'that', 'That', 'What', 'that', 'great', 'that', 'what', 'that', 'What', 'that', 'What', 'that', 'that', 'That', 'that', 'that', 'that', 'What', 'that', 'What', 'that', 'that', 'that', 'that', 'that', 'format', 'what', 'that', 'format', 'format', 'format', 'that', 'that', 'that', 'that', 'that', 'that', 'that', 'that']\n"
     ]
    }
   ],
   "source": [
    "import re\n",
    "text_file = open(\"PeterPan.txt\", \"r\") #this refers to the text of the book\n",
    "book = text_file.read() #this reads each line as a single string\n",
    "\n",
    "def Peter_Pan_Text(text_to_search):\n",
    "    if type(text_to_search) != str:\n",
    "        raise TypeError(\"Not a string\") #anything not a string wont get printed to terminal\n",
    "    test = []\n",
    "    pattern = re.findall(r\"[\\w]*at\\b\", text_to_search)\n",
    "    for word in pattern:\n",
    "        if len(word) > 3:\n",
    "            test.append(word)\n",
    "    return test\n",
    "    \n",
    "print Peter_Pan_Text(book)"
   ]
  },
  {
   "cell_type": "code",
   "execution_count": null,
   "metadata": {},
   "outputs": [],
   "source": []
  }
 ],
 "metadata": {
  "kernelspec": {
   "display_name": "Python 2",
   "language": "python",
   "name": "python2"
  },
  "language_info": {
   "codemirror_mode": {
    "name": "ipython",
    "version": 2
   },
   "file_extension": ".py",
   "mimetype": "text/x-python",
   "name": "python",
   "nbconvert_exporter": "python",
   "pygments_lexer": "ipython2",
   "version": "2.7.15"
  }
 },
 "nbformat": 4,
 "nbformat_minor": 2
}
